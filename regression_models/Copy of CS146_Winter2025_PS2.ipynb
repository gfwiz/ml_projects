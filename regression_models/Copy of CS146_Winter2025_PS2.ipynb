{
 "cells": [
  {
   "cell_type": "code",
   "execution_count": 41,
   "metadata": {
    "executionInfo": {
     "elapsed": 151,
     "status": "ok",
     "timestamp": 1739597999294,
     "user": {
      "displayName": "Gabriel Weisiger",
      "userId": "05038227067918146761"
     },
     "user_tz": 480
    },
    "id": "RcxSra45yOOo"
   },
   "outputs": [],
   "source": [
    "# This code was adapted from course material by Jenna Wiens (UMichigan).\n",
    "\n",
    "import sys"
   ]
  },
  {
   "cell_type": "code",
   "execution_count": 42,
   "metadata": {
    "colab": {
     "base_uri": "https://localhost:8080/"
    },
    "executionInfo": {
     "elapsed": 862,
     "status": "ok",
     "timestamp": 1739598000313,
     "user": {
      "displayName": "Gabriel Weisiger",
      "userId": "05038227067918146761"
     },
     "user_tz": 480
    },
    "id": "IgrdsqZeykTl",
    "outputId": "eb100b1e-aed1-4506-bfe2-e1540f32feb4"
   },
   "outputs": [
    {
     "name": "stdout",
     "output_type": "stream",
     "text": [
      "Drive already mounted at /content/gdrive; to attempt to forcibly remount, call drive.mount(\"/content/gdrive\", force_remount=True).\n"
     ]
    }
   ],
   "source": [
    "# To add your own Drive Run this cell.\n",
    "from google.colab import drive\n",
    "drive.mount('/content/gdrive')"
   ]
  },
  {
   "cell_type": "markdown",
   "metadata": {},
   "source": []
  },
  {
   "cell_type": "code",
   "execution_count": 43,
   "metadata": {
    "executionInfo": {
     "elapsed": 13,
     "status": "ok",
     "timestamp": 1739598000313,
     "user": {
      "displayName": "Gabriel Weisiger",
      "userId": "05038227067918146761"
     },
     "user_tz": 480
    },
    "id": "eRdIx3RBylgK"
   },
   "outputs": [],
   "source": [
    "# Please specify the full paths to the regression_train.csv\n",
    "# and regression_test.csv files in your gdrive directory\n",
    "### ========== TODO : START ========== ###\n",
    "train_path = '/content/gdrive/My Drive/ps2/regression_train.csv'\n",
    "test_path = '/content/gdrive/My Drive/ps2/regression_test.csv'\n",
    "### ========== TODO : END ========== ###"
   ]
  },
  {
   "cell_type": "code",
   "execution_count": 44,
   "metadata": {
    "executionInfo": {
     "elapsed": 13,
     "status": "ok",
     "timestamp": 1739598000314,
     "user": {
      "displayName": "Gabriel Weisiger",
      "userId": "05038227067918146761"
     },
     "user_tz": 480
    },
    "id": "-9rpA_5cyqNm"
   },
   "outputs": [],
   "source": [
    "# Use only the provided packages!\n",
    "import os\n",
    "import numpy as np\n",
    "import matplotlib.pyplot as plt"
   ]
  },
  {
   "cell_type": "code",
   "execution_count": 45,
   "metadata": {
    "executionInfo": {
     "elapsed": 12,
     "status": "ok",
     "timestamp": 1739598000314,
     "user": {
      "displayName": "Gabriel Weisiger",
      "userId": "05038227067918146761"
     },
     "user_tz": 480
    },
    "id": "GLUu5cxX00O1"
   },
   "outputs": [],
   "source": [
    "######################################################################\n",
    "# classes\n",
    "######################################################################\n",
    "\n",
    "class Data :\n",
    "\n",
    "    def __init__(self, X=None, y=None) :\n",
    "        \"\"\"\n",
    "        Data class.\n",
    "\n",
    "        Attributes\n",
    "        --------------------\n",
    "            X       -- numpy array of shape (n,d), features\n",
    "            y       -- numpy array of shape (n,), targets\n",
    "        \"\"\"\n",
    "\n",
    "        # n = number of examples, d = dimensionality\n",
    "        self.X = X\n",
    "        self.y = y\n",
    "\n",
    "    def load(self, filename) :\n",
    "        \"\"\"\n",
    "        Load csv file into X array of features and y array of labels.\n",
    "\n",
    "        Parameters\n",
    "        --------------------\n",
    "            filename -- string, filename\n",
    "        \"\"\"\n",
    "\n",
    "        # load data\n",
    "        with open(filename, 'r') as fid :\n",
    "            data = np.loadtxt(fid, delimiter=\",\")\n",
    "\n",
    "        # separate features and labels\n",
    "        self.X = data[:,:-1]\n",
    "        self.y = data[:,-1]\n",
    "\n",
    "    def plot(self, **kwargs) :\n",
    "        \"\"\"Plot data.\"\"\"\n",
    "\n",
    "        if 'color' not in kwargs :\n",
    "            kwargs['color'] = 'b'\n",
    "\n",
    "        fig = plt.figure(figsize=(10, 5))\n",
    "        plt.scatter(self.X, self.y, **kwargs)\n",
    "        plt.xlabel('x', fontsize = 16)\n",
    "        plt.ylabel('y', fontsize = 16)\n",
    "        plt.show()"
   ]
  },
  {
   "cell_type": "code",
   "execution_count": 45,
   "metadata": {
    "executionInfo": {
     "elapsed": 10,
     "status": "ok",
     "timestamp": 1739598000314,
     "user": {
      "displayName": "Gabriel Weisiger",
      "userId": "05038227067918146761"
     },
     "user_tz": 480
    },
    "id": "X3P2F0x8Vv8J"
   },
   "outputs": [],
   "source": []
  },
  {
   "cell_type": "code",
   "execution_count": 46,
   "metadata": {
    "executionInfo": {
     "elapsed": 8,
     "status": "ok",
     "timestamp": 1739598000314,
     "user": {
      "displayName": "Gabriel Weisiger",
      "userId": "05038227067918146761"
     },
     "user_tz": 480
    },
    "id": "3HyK8xJC03x9"
   },
   "outputs": [],
   "source": [
    "# wrapper functions around Data class\n",
    "def load_data(filename) :\n",
    "    data = Data()\n",
    "    data.load(filename)\n",
    "    return data\n",
    "\n",
    "def plot_data(X, y, **kwargs) :\n",
    "    data = Data(X, y)\n",
    "    data.plot(**kwargs)"
   ]
  },
  {
   "cell_type": "code",
   "execution_count": 47,
   "metadata": {
    "executionInfo": {
     "elapsed": 7,
     "status": "ok",
     "timestamp": 1739598000314,
     "user": {
      "displayName": "Gabriel Weisiger",
      "userId": "05038227067918146761"
     },
     "user_tz": 480
    },
    "id": "ocdVqDteL3sx"
   },
   "outputs": [],
   "source": [
    "def plot_erms(mrange, train_errs, test_errs):\n",
    "    fig = plt.figure(figsize=(10, 5))\n",
    "    plt.plot(mrange, train_errs, 'o-', color='red', label='Training')\n",
    "    plt.plot(mrange, test_errs, 'o-', color='blue', label='Test')\n",
    "    plt.xlabel(r'$m$', fontsize = 16)\n",
    "    plt.ylabel(r'$E_{RMS}$', fontsize = 16)\n",
    "    plt.title('Polynomial regression error')\n",
    "    plt.legend()\n",
    "    plt.show()"
   ]
  },
  {
   "cell_type": "code",
   "execution_count": 48,
   "metadata": {
    "executionInfo": {
     "elapsed": 7,
     "status": "ok",
     "timestamp": 1739598000315,
     "user": {
      "displayName": "Gabriel Weisiger",
      "userId": "05038227067918146761"
     },
     "user_tz": 480
    },
    "id": "dAqbE9ar08Rh"
   },
   "outputs": [],
   "source": [
    "class PolynomialRegression() :\n",
    "\n",
    "    def __init__(self, m=1) :\n",
    "        \"\"\"\n",
    "        Ordinary least squares regression.\n",
    "\n",
    "        Attributes\n",
    "        --------------------\n",
    "            coef_   -- numpy array of shape (d,)\n",
    "                       estimated coefficients for the linear regression problem\n",
    "            m_      -- integer\n",
    "                       order for polynomial regression\n",
    "        \"\"\"\n",
    "        self.coef_ = None\n",
    "        self.m_ = m\n",
    "\n",
    "\n",
    "    def generate_polynomial_features(self, X) :\n",
    "        \"\"\"\n",
    "        Maps X to an mth degree feature vector e.g. [1, X, X^2, ..., X^m].\n",
    "\n",
    "        Parameters\n",
    "        --------------------\n",
    "            X       -- numpy array of shape (n,1), features\n",
    "\n",
    "        Returns\n",
    "        --------------------\n",
    "            Phi     -- numpy array of shape (n,(m+1)), mapped features\n",
    "        \"\"\"\n",
    "\n",
    "        n,d = X.shape\n",
    "\n",
    "        ### ========== TODO : START ========== ###\n",
    "        # part b: modify to create matrix for simple linear model\n",
    "        # part g: modify to create matrix for polynomial model\n",
    "        m = self.m_\n",
    "        Phi = np.ones((n,m+1))\n",
    "        for i in range(1,m+1):\n",
    "          Phi[:,i] = X[:, 0]**i\n",
    "\n",
    "        ### ========== TODO : END ========== ###\n",
    "\n",
    "        return Phi\n",
    "\n",
    "\n",
    "    def fit_GD(self, X, y, eta=None,\n",
    "                eps=0, tmax=10000, verbose=False) :\n",
    "        \"\"\"\n",
    "        Finds the coefficients of a {d-1}^th degree polynomial\n",
    "        that fits the data using least squares batch gradient descent.\n",
    "\n",
    "        Parameters\n",
    "        --------------------\n",
    "            X       -- numpy array of shape (n,d), features\n",
    "            y       -- numpy array of shape (n,), targets\n",
    "            eta     -- float, step size\n",
    "            eps     -- float, convergence criterion\n",
    "            tmax    -- integer, maximum number of iterations\n",
    "            verbose -- boolean, for debugging purposes\n",
    "\n",
    "        Returns\n",
    "        --------------------\n",
    "            self    -- an instance of self\n",
    "        \"\"\"\n",
    "\n",
    "        if verbose :\n",
    "            plt.subplot(1, 2, 2)\n",
    "            plt.xlabel('iteration')\n",
    "            plt.ylabel(r'$J(\\theta)$')\n",
    "            plt.ion()\n",
    "            plt.show()\n",
    "\n",
    "        X = self.generate_polynomial_features(X) # map features\n",
    "        n,d = X.shape\n",
    "        eta_input = eta\n",
    "        self.coef_ = np.zeros(d)                 # coefficients\n",
    "        err_list  = np.zeros((tmax,1))           # errors per iteration\n",
    "\n",
    "        # GD loop\n",
    "        for t in range(tmax) :\n",
    "            ### ========== TODO : START ========== ###\n",
    "            # part f: update step size\n",
    "            # change the default eta in the function signature to 'eta=None'\n",
    "            # and update the line below to your learning rate function\n",
    "            if eta_input is None :\n",
    "                eta = 1/(1+(0.01*t))\n",
    "            else :\n",
    "                eta = eta_input\n",
    "            ### ========== TODO : END ========== ###\n",
    "\n",
    "            ### ========== TODO : START ========== ###\n",
    "            # part d: update theta (self.coef_) using one step of GD\n",
    "            # hint: you can write simultaneously update all theta using vector math\n",
    "\n",
    "            # track error\n",
    "            # hint: you cannot use self.predict(...) to make the predictions\n",
    "            y_pred = X.dot(self.coef_)\n",
    "            grad = -2 * X.T.dot(y-y_pred) / n\n",
    "            self.coef_ -= eta*grad\n",
    "            err_list[t] = np.sum(np.power(y - y_pred, 2)) / float(n)\n",
    "            ### ========== TODO : END ========== ###\n",
    "\n",
    "            # stop?\n",
    "            if t > 0 and abs(err_list[t] - err_list[t-1]) <= eps :\n",
    "                break\n",
    "\n",
    "            # debugging\n",
    "            if verbose :\n",
    "                x = np.reshape(X[:,1], (n,1))\n",
    "                cost = self.cost(x,y)\n",
    "                plt.subplot(1, 2, 1)\n",
    "                plt.cla()\n",
    "                plot_data(x, y)\n",
    "                self.plot_regression()\n",
    "                plt.subplot(1, 2, 2)\n",
    "                plt.plot([t+1], [cost], 'bo')\n",
    "                plt.suptitle('iteration: %d, cost: %f' % (t+1, cost))\n",
    "                plt.draw()\n",
    "                plt.pause(0.05) # pause for 0.05 sec\n",
    "\n",
    "        print('number of iterations: %d' % (t+1))\n",
    "\n",
    "        return self\n",
    "\n",
    "\n",
    "    def fit(self, X, y) :\n",
    "        \"\"\"\n",
    "        Finds the coefficients of a {d-1}^th degree polynomial\n",
    "        that fits the data using the closed form solution.\n",
    "\n",
    "        Parameters\n",
    "        --------------------\n",
    "            X       -- numpy array of shape (n,d), features\n",
    "            y       -- numpy array of shape (n,), targets\n",
    "\n",
    "        Returns\n",
    "        --------------------\n",
    "            self    -- an instance of self\n",
    "        \"\"\"\n",
    "\n",
    "        X = self.generate_polynomial_features(X) # map features\n",
    "\n",
    "        ### ========== TODO : START ========== ###\n",
    "        # part e: implement closed-form solution\n",
    "        # hint: use np.dot(...) and np.linalg.pinv(...)\n",
    "        #       be sure to update self.coef_ with your solution\n",
    "        self.coef_ = np.linalg.pinv(X.T.dot(X)).dot(X.T).dot(y)\n",
    "        ### ========== TODO : END ========== ###\n",
    "\n",
    "\n",
    "    def predict(self, X) :\n",
    "        \"\"\"\n",
    "        Predict output for X.\n",
    "\n",
    "        Parameters\n",
    "        --------------------\n",
    "            X       -- numpy array of shape (n,d), features\n",
    "\n",
    "        Returns\n",
    "        --------------------\n",
    "            y       -- numpy array of shape (n,), predictions\n",
    "        \"\"\"\n",
    "        if self.coef_ is None :\n",
    "            raise Exception(\"Model not initialized. Perform a fit first.\")\n",
    "\n",
    "        X = self.generate_polynomial_features(X) # map features\n",
    "\n",
    "        ### ========== TODO : START ========== ###\n",
    "        # part c: predict y\n",
    "        y = X.dot(self.coef_)\n",
    "        ### ========== TODO : END ========== ###\n",
    "\n",
    "        return y\n",
    "\n",
    "\n",
    "    def cost(self, X, y) :\n",
    "        \"\"\"\n",
    "        Calculates the objective function.\n",
    "\n",
    "        Parameters\n",
    "        --------------------\n",
    "            X       -- numpy array of shape (n,d), features\n",
    "            y       -- numpy array of shape (n,), targets\n",
    "\n",
    "        Returns\n",
    "        --------------------\n",
    "            cost    -- float, objective J(theta)\n",
    "        \"\"\"\n",
    "        ### ========== TODO : START ========== ###\n",
    "        # part d: compute J(theta)\n",
    "        prediction = self.predict(X)\n",
    "        cost = np.sum(np.power(y-prediction,2)) / len(y)\n",
    "        ### ========== TODO : END ========== ###\n",
    "        return cost\n",
    "\n",
    "\n",
    "    def rms_error(self, X, y) :\n",
    "        \"\"\"\n",
    "        Calculates the root mean square error.\n",
    "\n",
    "        Parameters\n",
    "        --------------------\n",
    "            X       -- numpy array of shape (n,d), features\n",
    "            y       -- numpy array of shape (n,), targets\n",
    "\n",
    "        Returns\n",
    "        --------------------\n",
    "            error   -- float, RMSE\n",
    "        \"\"\"\n",
    "        ### ========== TODO : START ========== ###\n",
    "        # part h: compute RMSE\n",
    "        error = np.sqrt(self.cost(X,y))\n",
    "        ### ========== TODO : END ========== ###\n",
    "        return error\n",
    "\n",
    "\n",
    "    def plot_regression(self, xmin=0, xmax=1, n=50, **kwargs) :\n",
    "        \"\"\"Plot regression line.\"\"\"\n",
    "        if 'color' not in kwargs :\n",
    "            kwargs['color'] = 'r'\n",
    "        if 'linestyle' not in kwargs :\n",
    "            kwargs['linestyle'] = '-'\n",
    "\n",
    "        X = np.reshape(np.linspace(0,1,n), (n,1))\n",
    "        y = self.predict(X)\n",
    "        plot_data(X, y, **kwargs)\n",
    "        plt.show()\n"
   ]
  },
  {
   "cell_type": "code",
   "execution_count": 49,
   "metadata": {
    "colab": {
     "base_uri": "https://localhost:8080/",
     "height": 1000
    },
    "executionInfo": {
     "elapsed": 1544,
     "status": "ok",
     "timestamp": 1739598001852,
     "user": {
      "displayName": "Gabriel Weisiger",
      "userId": "05038227067918146761"
     },
     "user_tz": 480
    },
    "id": "X1vG8LDm1FKW",
    "outputId": "ca7f7d3f-0696-4c58-9bd3-d51fe8e7e968"
   },
   "outputs": [
    {
     "name": "stdout",
     "output_type": "stream",
     "text": [
      "Visualizing data...\n"
     ]
    },
    {
     "data": {
      "image/png": "[encoded data removed]",
      "text/plain": [
       "<Figure size 1000x500 with 1 Axes>"
      ]
     },
     "metadata": {},
     "output_type": "display_data"
    },
    {
     "data": {
      "image/png": "[encoded data removed]",
      "text/plain": [
       "<Figure size 1000x500 with 1 Axes>"
      ]
     },
     "metadata": {},
     "output_type": "display_data"
    },
    {
     "name": "stdout",
     "output_type": "stream",
     "text": [
      "Investigating linear regression...\n",
      "number of iterations: 347\n",
      "Custom Coefficients: [ 2.44640703 -2.81635346]\n",
      "Custom Cost: 0.1956288202895743\n",
      "number of iterations: 10000\n",
      "Learning rate: 1e-06\n",
      "Coefficients: [0.02234673 0.00661274]\n",
      "Final Cost: 1.95737930170977\n",
      "\n",
      "number of iterations: 10000\n",
      "Learning rate: 1e-05\n",
      "Coefficients: [0.20225502 0.05585399]\n",
      "Final Cost: 1.5692866620509913\n",
      "\n",
      "number of iterations: 10000\n",
      "Learning rate: 0.001\n",
      "Coefficients: [ 1.91573585 -1.74358989]\n",
      "Final Cost: 0.2746782794368013\n",
      "\n",
      "number of iterations: 1467\n",
      "Learning rate: 0.1\n",
      "Coefficients: [ 2.44640696 -2.81635331]\n",
      "Final Cost: 0.19562882028957834\n",
      "\n",
      "Closed Form Coefficients: [ 2.44640709 -2.81635359]\n",
      "Closed Form Cost: 0.19562882028957318\n",
      "Investigating polynomial regression...\n"
     ]
    },
    {
     "data": {
      "image/png": "[encoded data removed]",
      "text/plain": [
       "<Figure size 1000x500 with 1 Axes>"
      ]
     },
     "metadata": {},
     "output_type": "display_data"
    },
    {
     "name": "stdout",
     "output_type": "stream",
     "text": [
      "Done!\n"
     ]
    }
   ],
   "source": [
    "######################################################################\n",
    "# main\n",
    "######################################################################\n",
    "\n",
    "def main():\n",
    "    # load data\n",
    "    train_data = load_data(train_path)\n",
    "    test_data = load_data(test_path)\n",
    "\n",
    "\n",
    "    ### ========== TODO : START ========== ###\n",
    "    # part a: main code for visualizations\n",
    "\n",
    "    print('Visualizing data...')\n",
    "\n",
    "    plot_data(train_data.X,train_data.y)\n",
    "    plot_data(test_data.X, test_data.y)\n",
    "    ### ========== TODO : END ========== ###\n",
    "\n",
    "\n",
    "\n",
    "    ### ========== TODO : START ========== ###\n",
    "    # parts b-f: main code for linear regression\n",
    "    print('Investigating linear regression...')\n",
    "    model = PolynomialRegression(m=1)\n",
    "    model.fit_GD(train_data.X,train_data.y, eta=None )\n",
    "    print(f\"Custom Coefficients: {model.coef_}\")\n",
    "    print(f\"Custom Cost: {model.cost(train_data.X, train_data.y)}\")\n",
    "    lrs = [1e-6, 1e-5, 1e-3, 0.1]\n",
    "    for eta in lrs:\n",
    "      model = PolynomialRegression(m=1)\n",
    "      model.fit_GD(train_data.X, train_data.y, eta=eta)\n",
    "      print(f\"Learning rate: {eta}\")\n",
    "      print(f\"Coefficients: {model.coef_}\")\n",
    "      print(f\"Final Cost: {model.cost(train_data.X, train_data.y)}\\n\")\n",
    "\n",
    "    model = PolynomialRegression(m=1)\n",
    "    model.fit(train_data.X,train_data.y)\n",
    "    print(f\"Closed Form Coefficients: {model.coef_}\")\n",
    "    print(f\"Closed Form Cost: {model.cost(train_data.X, train_data.y)}\")\n",
    "\n",
    "    ### ========== TODO : END ========== ###\n",
    "\n",
    "\n",
    "\n",
    "    ### ========== TODO : START ========== ###\n",
    "    # parts g-i: main code for polynomial regression\n",
    "    print('Investigating polynomial regression...')\n",
    "    mrange = np.arange(0, 11)\n",
    "    train_errs, test_errs = [], []\n",
    "\n",
    "    for m in mrange:\n",
    "       model = PolynomialRegression(m)\n",
    "       model.fit(train_data.X, train_data.y)\n",
    "       train_errs.append(model.rms_error(train_data.X, train_data.y))\n",
    "       test_errs.append(model.rms_error(test_data.X, test_data.y))\n",
    "\n",
    "    plot_erms(mrange, train_errs, test_errs)\n",
    "    ### ========== TODO : END ========== ###\n",
    "\n",
    "\n",
    "    print(\"Done!\")\n",
    "\n",
    "if __name__ == \"__main__\":\n",
    "    main()\n"
   ]
  },
  {
   "cell_type": "code",
   "execution_count": 49,
   "metadata": {
    "executionInfo": {
     "elapsed": 7,
     "status": "ok",
     "timestamp": 1739598001853,
     "user": {
      "displayName": "Gabriel Weisiger",
      "userId": "05038227067918146761"
     },
     "user_tz": 480
    },
    "id": "-v2OAMyCcyko"
   },
   "outputs": [],
   "source": []
  }
 ],
 "metadata": {
  "colab": {
   "provenance": [
    {
     "file_id": "1D_K5KVTgG4STUDJ13-prLOGqMO-pQHqY",
     "timestamp": 1739497210919
    }
   ]
  },
  "kernelspec": {
   "display_name": "Python 3",
   "name": "python3"
  }
 },
 "nbformat": 4,
 "nbformat_minor": 0
}
